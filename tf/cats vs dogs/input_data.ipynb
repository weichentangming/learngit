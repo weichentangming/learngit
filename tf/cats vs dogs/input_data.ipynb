{
 "cells": [
  {
   "cell_type": "code",
   "execution_count": null,
   "metadata": {},
   "outputs": [],
   "source": [
    "import tensorflow as tf\n",
    "import numpy as np\n",
    "import os\n",
    "import math\n",
    "file_dir = '/home/weifeng/learngit/tf/cats vs dogs/train/'"
   ]
  },
  {
   "cell_type": "markdown",
   "metadata": {},
   "source": [
    "# 将照片写成list"
   ]
  },
  {
   "cell_type": "code",
   "execution_count": 1,
   "metadata": {},
   "outputs": [],
   "source": [
    "def get_file(file_dir,ratio):\n",
    "    cats = []\n",
    "    label_cats = []\n",
    "    dogs = []\n",
    "    label_dogs = []\n",
    "    for file in os.listdir(file_dir):\n",
    "        name = file.split(sep='.')\n",
    "        if name[0] == 'cat':\n",
    "            cats.append(file_dir + file)\n",
    "            label_cats.append(0)\n",
    "            \n",
    "        else:\n",
    "            dogs.append(file_dir + file)\n",
    "            label_dogs.append(1)\n",
    "            \n",
    "    print('There are %d cats \\n There are %d dogs' %(len(cats),len(dogs)))\n",
    "    image_list = np.hstack((cats,dogs))\n",
    "    label_list = np.hstack((label_cats,label_dogs))\n",
    "    \n",
    "    temp =  np.array([image_list,label_list])\n",
    "    temp = temp.T\n",
    "    np.random.shuffle(temp)\n",
    "    \n",
    "    all_image_list = temp[:,0]\n",
    "    all_label_list = temp[:,1]\n",
    "    \n",
    "    n_sample = len(all_image_list)\n",
    "    n_val = math.ceil(n_sample * ratio)\n",
    "    n_train = n_sample - n_val\n",
    "    \n",
    "    train_image = all_image_list[0:n_train]\n",
    "    train_label = all_label_list[0:n_train]\n",
    "    train_label = [int(float(i))for i in train_label]\n",
    "    \n",
    "    val_image = all_image_list[n_train:]\n",
    "    val_label = all_label_list[n_train:]\n",
    "    val_label = [int(float(i))for i in val_label]\n",
    "    \n",
    "    return train_image,train_label,val_image,val_label\n",
    "    \n",
    "    \n",
    "    \n",
    "    \n",
    "    "
   ]
  },
  {
   "cell_type": "code",
   "execution_count": 2,
   "metadata": {},
   "outputs": [],
   "source": [
    "def get_batch(image,label,image_W,image_H,batch_size):\n",
    "    image = tf.cast(image,tf.string)\n",
    "    label = tf.cast(label,tf.int32)\n",
    "    \n",
    "    input_queue = tf.train.slice_input_producer([image,label])\n",
    "    label = input_queue[1]\n",
    "    image_contents = tf.read_file(input_queue[0])\n",
    "    image = tf.image.decode_jpeg(image_contents, channels=3)\n",
    "\n",
    "    image = tf.image.resize_image_with_crop_or_pad(image, image_W, image_H)\n",
    "\n",
    "    # if you want to test the generated batches of images, you might want to comment the following line.\n",
    "    image = tf.image.per_image_standardization(image)\n",
    "    image_batch, label_batch = tf.train.batch([image, label],\n",
    "                                                batch_size= batch_size,\n",
    "                                                num_threads= 64\n",
    "                                                )\n",
    "    label_batch = tf.reshape(label_batch, [batch_size])\n",
    "    image_batch = tf.cast(image_batch, tf.float32)\n",
    "\n",
    "    return image_batch, label_batch\n",
    "\n",
    " "
   ]
  },
  {
   "cell_type": "code",
   "execution_count": null,
   "metadata": {},
   "outputs": [],
   "source": [
    "def inference(images,batch_size,n_nclass):\n",
    "    with tf.variable_scope('cov1') as scope:\n",
    "        weights = tf.get_variable('weights',shape = [])"
   ]
  }
 ],
 "metadata": {
  "kernelspec": {
   "display_name": "Python 3",
   "language": "python",
   "name": "python3"
  },
  "language_info": {
   "codemirror_mode": {
    "name": "ipython",
    "version": 3
   },
   "file_extension": ".py",
   "mimetype": "text/x-python",
   "name": "python",
   "nbconvert_exporter": "python",
   "pygments_lexer": "ipython3",
   "version": "3.5.2"
  }
 },
 "nbformat": 4,
 "nbformat_minor": 2
}
