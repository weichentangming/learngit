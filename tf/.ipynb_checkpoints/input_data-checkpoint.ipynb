{
 "cells": [
  {
   "cell_type": "code",
   "execution_count": 5,
   "metadata": {},
   "outputs": [],
   "source": [
    "import tensorflow as tf\n",
    "import numpy as np\n",
    "import os\n",
    "import math\n",
    "file_dir = '/home/weifeng/learngit/tf/cats vs dogs/train/'"
   ]
  },
  {
   "cell_type": "code",
   "execution_count": 31,
   "metadata": {},
   "outputs": [],
   "source": [
    "def get_file(file_dir,ratio):\n",
    "    cats = []\n",
    "    label_cats = []\n",
    "    dogs = []\n",
    "    label_dogs = []\n",
    "    for file in os.listdir(file_dir):\n",
    "        name = file.split(sep='.')\n",
    "        if name[0] == 'cat':\n",
    "            cats.append(file_dir + file)\n",
    "            label_cats.append(0)\n",
    "            \n",
    "        else:\n",
    "            dogs.append(file_dir + file)\n",
    "            label_dogs.append(1)\n",
    "            \n",
    "    print('There are %d cats \\n There are %d dogs' %(len(cats),len(dogs)))\n",
    "    image_list = np.hstack((cats,dogs))\n",
    "    label_list = np.hstack((label_cats,label_dogs))\n",
    "    \n",
    "    temp =  np.array([image_list,label_list])\n",
    "    temp = temp.T\n",
    "    np.random.shuffle(temp)\n",
    "    \n",
    "    all_image_list = temp[:,0]\n",
    "    all_label_list = temp[:,1]\n",
    "    \n",
    "    n_sample = len(all_image_list)\n",
    "    n_val = math.ceil(n_sample * ratio)\n",
    "    n_train = n_sample - n_val\n",
    "    \n",
    "    train_image = all_image_list[0:n_train]\n",
    "    train_label = all_label_list[0:n_train]\n",
    "    train_label = [int(float(i))for i in train_label]\n",
    "    \n",
    "    val_image = all_image_list[n_train:]\n",
    "    val_label = all_label_list[n_train:]\n",
    "    val_label = [int(float(i))for i in val_label]\n",
    "    \n",
    "    return train_image,train_label,val_image,val_label\n",
    "    \n",
    "    \n",
    "    \n",
    "    \n",
    "    "
   ]
  },
  {
   "cell_type": "code",
   "execution_count": 32,
   "metadata": {},
   "outputs": [
    {
     "name": "stdout",
     "output_type": "stream",
     "text": [
      "There are 10 cats \n",
      " There are 10 dogs\n"
     ]
    }
   ],
   "source": [
    "a = get_file(file_dir,0.2)"
   ]
  },
  {
   "cell_type": "code",
   "execution_count": 33,
   "metadata": {},
   "outputs": [
    {
     "data": {
      "text/plain": [
       "(array(['/home/weifeng/learngit/tf/cats vs dogs/train/dog.6.jpg',\n",
       "        '/home/weifeng/learngit/tf/cats vs dogs/train/cat.10.jpg',\n",
       "        '/home/weifeng/learngit/tf/cats vs dogs/train/cat.5.jpg',\n",
       "        '/home/weifeng/learngit/tf/cats vs dogs/train/dog.8.jpg',\n",
       "        '/home/weifeng/learngit/tf/cats vs dogs/train/dog.2.jpg',\n",
       "        '/home/weifeng/learngit/tf/cats vs dogs/train/cat.6.jpg',\n",
       "        '/home/weifeng/learngit/tf/cats vs dogs/train/cat.3.jpg',\n",
       "        '/home/weifeng/learngit/tf/cats vs dogs/train/dog.4.jpg',\n",
       "        '/home/weifeng/learngit/tf/cats vs dogs/train/dog.3.jpg',\n",
       "        '/home/weifeng/learngit/tf/cats vs dogs/train/cat.8.jpg',\n",
       "        '/home/weifeng/learngit/tf/cats vs dogs/train/dog.7.jpg',\n",
       "        '/home/weifeng/learngit/tf/cats vs dogs/train/cat.9.jpg',\n",
       "        '/home/weifeng/learngit/tf/cats vs dogs/train/cat.7.jpg',\n",
       "        '/home/weifeng/learngit/tf/cats vs dogs/train/dog.10.jpg',\n",
       "        '/home/weifeng/learngit/tf/cats vs dogs/train/dog.5.jpg',\n",
       "        '/home/weifeng/learngit/tf/cats vs dogs/train/dog.9.jpg'],\n",
       "       dtype='<U55'),\n",
       " [1, 0, 0, 1, 1, 0, 0, 1, 1, 0, 1, 0, 0, 1, 1, 1],\n",
       " array(['/home/weifeng/learngit/tf/cats vs dogs/train/dog.1.jpg',\n",
       "        '/home/weifeng/learngit/tf/cats vs dogs/train/cat.2.jpg',\n",
       "        '/home/weifeng/learngit/tf/cats vs dogs/train/cat.1.jpg',\n",
       "        '/home/weifeng/learngit/tf/cats vs dogs/train/cat.4.jpg'],\n",
       "       dtype='<U55'),\n",
       " [1, 0, 0, 0])"
      ]
     },
     "execution_count": 33,
     "metadata": {},
     "output_type": "execute_result"
    }
   ],
   "source": [
    "a"
   ]
  },
  {
   "cell_type": "code",
   "execution_count": null,
   "metadata": {},
   "outputs": [],
   "source": []
  }
 ],
 "metadata": {
  "kernelspec": {
   "display_name": "Python 3",
   "language": "python",
   "name": "python3"
  },
  "language_info": {
   "codemirror_mode": {
    "name": "ipython",
    "version": 3
   },
   "file_extension": ".py",
   "mimetype": "text/x-python",
   "name": "python",
   "nbconvert_exporter": "python",
   "pygments_lexer": "ipython3",
   "version": "3.5.2"
  }
 },
 "nbformat": 4,
 "nbformat_minor": 2
}
