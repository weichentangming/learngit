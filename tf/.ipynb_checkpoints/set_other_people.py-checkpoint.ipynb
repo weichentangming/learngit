{
 "cells": [
  {
   "cell_type": "code",
   "execution_count": 1,
   "metadata": {},
   "outputs": [],
   "source": [
    "import sys\n",
    "import cv2\n",
    "import os\n",
    "import dlib"
   ]
  },
  {
   "cell_type": "code",
   "execution_count": 6,
   "metadata": {},
   "outputs": [],
   "source": [
    "input_dir = '/home/weifeng/桌面/other_face'\n",
    "output_dir = '/home/weifeng/learngit/tf/人脸识别/other_face'\n",
    "size = 64\n",
    "if not os.path.exists(output_dir):\n",
    "    os.makedirs(output_dir)"
   ]
  },
  {
   "cell_type": "markdown",
   "metadata": {},
   "source": [
    "# 使用 dlib 的frontal_face_detector 作为特征提取器"
   ]
  },
  {
   "cell_type": "code",
   "execution_count": 7,
   "metadata": {},
   "outputs": [
    {
     "ename": "AttributeError",
     "evalue": "'str' object has no attribute 'endswish'",
     "output_type": "error",
     "traceback": [
      "\u001b[0;31m---------------------------------------------------------------------------\u001b[0m",
      "\u001b[0;31mAttributeError\u001b[0m                            Traceback (most recent call last)",
      "\u001b[0;32m<ipython-input-7-7d0a27413e71>\u001b[0m in \u001b[0;36m<module>\u001b[0;34m()\u001b[0m\n\u001b[1;32m      4\u001b[0m \u001b[0;32mfor\u001b[0m \u001b[0;34m(\u001b[0m\u001b[0mpath\u001b[0m\u001b[0;34m,\u001b[0m\u001b[0mdirname\u001b[0m\u001b[0;34m,\u001b[0m\u001b[0mfilenames\u001b[0m\u001b[0;34m)\u001b[0m \u001b[0;32min\u001b[0m \u001b[0mos\u001b[0m\u001b[0;34m.\u001b[0m\u001b[0mwalk\u001b[0m\u001b[0;34m(\u001b[0m\u001b[0minput_dir\u001b[0m\u001b[0;34m)\u001b[0m\u001b[0;34m:\u001b[0m\u001b[0;34m\u001b[0m\u001b[0m\n\u001b[1;32m      5\u001b[0m     \u001b[0;32mfor\u001b[0m \u001b[0mfilename\u001b[0m \u001b[0;32min\u001b[0m \u001b[0mfilenames\u001b[0m\u001b[0;34m:\u001b[0m\u001b[0;34m\u001b[0m\u001b[0m\n\u001b[0;32m----> 6\u001b[0;31m         \u001b[0;32mif\u001b[0m \u001b[0mfilename\u001b[0m\u001b[0;34m.\u001b[0m\u001b[0mendswish\u001b[0m\u001b[0;34m(\u001b[0m\u001b[0;34m'.jpg'\u001b[0m\u001b[0;34m)\u001b[0m\u001b[0;34m:\u001b[0m\u001b[0;34m\u001b[0m\u001b[0m\n\u001b[0m\u001b[1;32m      7\u001b[0m             \u001b[0mprint\u001b[0m\u001b[0;34m(\u001b[0m\u001b[0;34m'Being processed picture %s'\u001b[0m \u001b[0;34m%\u001b[0m \u001b[0mindex\u001b[0m\u001b[0;34m)\u001b[0m\u001b[0;34m\u001b[0m\u001b[0m\n\u001b[1;32m      8\u001b[0m             \u001b[0mimg_path\u001b[0m \u001b[0;34m=\u001b[0m \u001b[0mpath\u001b[0m\u001b[0;34m+\u001b[0m\u001b[0;34m'/'\u001b[0m\u001b[0;34m+\u001b[0m\u001b[0mfilename\u001b[0m\u001b[0;34m\u001b[0m\u001b[0m\n",
      "\u001b[0;31mAttributeError\u001b[0m: 'str' object has no attribute 'endswish'"
     ]
    }
   ],
   "source": [
    "detector = dlib.get_frontal_face_detector()\n",
    "\n",
    "index = 1\n",
    "for (path,dirname,filenames) in os.walk(input_dir):\n",
    "    for filename in filenames:\n",
    "        if filename.endswith('.jpg')\n",
    "            print('Being processed picture %s' % index)\n",
    "            img_path = path+'/'+filename\n",
    "            # 从文件中读取照片\n",
    "            img = cv2.imread(img_path)\n",
    "            #转换为灰度照片\n",
    "            gray_img = cv2.cvtColor(img,cv2.COLOR_BGR2GRAY)\n",
    "            #使用detector进行人脸检测 dets 为返回结果\n",
    "            dets = detector(gray_img,1)\n",
    "            #使用enumerate函数遍历序列中的元素以及他们的下标\n",
    "            #下标i即为人脸序号\n",
    "            #left: 人脸左边距离图片左边界的距离\n",
    "            #right: 人脸右边距离图片左边界的距离\n",
    "            #top:人脸上边界距离图片上边界的距离\n",
    "            #bottom: 人脸下边界距离上边界的距离\n",
    "            for i , d  in enumerate(dates):\n",
    "                x1 = d.top() if d.top() > 0 else 0\n",
    "                y1 = d.bottom() if d.bottom() > 0 else 0\n",
    "                x2 = d.left() if d.left()>0 else 0 \n",
    "                y2 = d.right() if d.right() > 0 else 0\n",
    "                face = img[x1:y1,x2:y2]\n",
    "                #调整图片的尺寸\n",
    "                face = cv.resize(face,(size,size))\n",
    "                cv.imshow('image',face)\n",
    "                #保存照片\n",
    "                cv2.imwrite(output_dir+'/'+str(index)+'.jpg',face)\n",
    "                index +=1\n",
    "            key = cv2.waitKey(30) &0xff\n",
    "            if key ==27:\n",
    "                sys.exit(0)"
   ]
  },
  {
   "cell_type": "code",
   "execution_count": null,
   "metadata": {},
   "outputs": [],
   "source": []
  }
 ],
 "metadata": {
  "kernelspec": {
   "display_name": "Python 3",
   "language": "python",
   "name": "python3"
  },
  "language_info": {
   "codemirror_mode": {
    "name": "ipython",
    "version": 3
   },
   "file_extension": ".py",
   "mimetype": "text/x-python",
   "name": "python",
   "nbconvert_exporter": "python",
   "pygments_lexer": "ipython3",
   "version": "3.5.2"
  }
 },
 "nbformat": 4,
 "nbformat_minor": 2
}
